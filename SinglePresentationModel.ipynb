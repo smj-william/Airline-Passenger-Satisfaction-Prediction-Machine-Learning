{
 "cells": [
  {
   "cell_type": "markdown",
   "metadata": {},
   "source": [
    "# EE660 Final Project Mingjian Shi\n",
    "## Airline Passenger Satisfaction Prediction \n"
   ]
  },
  {
   "cell_type": "markdown",
   "metadata": {},
   "source": [
    "## Best model presentation "
   ]
  },
  {
   "cell_type": "markdown",
   "metadata": {},
   "source": [
    "## 0. Preprocessing data"
   ]
  },
  {
   "cell_type": "code",
   "execution_count": 1,
   "metadata": {},
   "outputs": [],
   "source": [
    "import numpy as np\n",
    "import pandas as pd\n",
    "import matplotlib.pyplot as plt\n",
    "import random\n",
    "from sklearn.model_selection import train_test_split\n",
    "from sklearn.preprocessing import StandardScaler\n",
    "from sklearn.metrics import accuracy_score\n",
    "from sklearn.ensemble import RandomForestClassifier\n",
    "from sklearn.svm import SVC\n",
    "from sklearn.decomposition import PCA\n",
    "from sklearn.semi_supervised import SelfTrainingClassifier"
   ]
  },
  {
   "cell_type": "code",
   "execution_count": 2,
   "metadata": {},
   "outputs": [],
   "source": [
    "#Load the data\n",
    "org_data = pd.read_csv('dataset.csv')\n",
    "\n",
    "#one-hot encoding\n",
    "org_data = pd.get_dummies(org_data, drop_first = True)\n",
    "\n",
    "#drop \"Unnamed\" col\n",
    "org_data.drop([\"Unnamed: 0\"],axis = 1, inplace = True)\n",
    "\n",
    "#Missing data treatment \n",
    "org_data['arrival_delay_in_minutes'].fillna(org_data['departure_delay_in_minutes'], inplace = True)\n",
    "\n",
    "#outliers removing \n",
    "data = org_data[(org_data['flight_distance'] <= 4000)]\n",
    "data = org_data[(org_data['departure_delay_in_minutes'] <= 450)]\n",
    "data = org_data[(org_data['arrival_delay_in_minutes'] <= 450)]\n",
    "\n",
    "#train test split\n",
    "x = data.drop('satisfaction_satisfied', axis=1)\n",
    "y = data['satisfaction_satisfied']\n",
    "x_train, x_test, y_train, y_test = train_test_split(x.values, y.values, test_size = 0.2, random_state = 42)\n",
    "\n",
    "#Normalization\n",
    "scaler = StandardScaler()\n",
    "x_train = scaler.fit_transform(x_train)\n",
    "x_test = scaler.fit_transform(x_test)\n",
    "\n",
    "#PCA\n",
    "pca = PCA(n_components = 0.85)\n",
    "x_train = pca.fit_transform(x_train)\n",
    "x_test = pca.fit_transform(x_test)"
   ]
  },
  {
   "cell_type": "markdown",
   "metadata": {},
   "source": [
    "## 1. Supervised Learning Best Model - Random Forest"
   ]
  },
  {
   "cell_type": "code",
   "execution_count": 6,
   "metadata": {},
   "outputs": [
    {
     "name": "stdout",
     "output_type": "stream",
     "text": [
      "RF Training Accuracy:  0.9999807418249047\n",
      "RF Test Accuracy:  0.9018641195501463\n"
     ]
    }
   ],
   "source": [
    "# Then We use the best parameters to finalize our model\n",
    "RF_model=RandomForestClassifier(n_estimators=100, max_depth=50, max_features=6, bootstrap= True)\n",
    "RF_model.fit(x_train, y_train)\n",
    "\n",
    "y_train_pred = RF_model.predict(x_train)\n",
    "y_test_pred = RF_model.predict(x_test)\n",
    "\n",
    "RF_train_acc = accuracy_score(y_train, y_train_pred)\n",
    "RF_test_acc = accuracy_score(y_test, y_test_pred)\n",
    "\n",
    "print('RF Training Accuracy: ' , RF_train_acc)\n",
    "print('RF Test Accuracy: ', RF_test_acc )"
   ]
  },
  {
   "cell_type": "markdown",
   "metadata": {},
   "source": [
    "## 2. Semi-supervised Learning Best Model - Self Training Classifier "
   ]
  },
  {
   "cell_type": "code",
   "execution_count": 5,
   "metadata": {},
   "outputs": [],
   "source": [
    "# Form SSL data set\n",
    "\n",
    "# Test Set\n",
    "X_test = x_test\n",
    "Y_test = y_test\n",
    "\n",
    "\n",
    "#Original Train set with all the label\n",
    "X_train = x_train\n",
    "Y_train = y_train\n",
    "\n",
    "#Decrease the train size\n",
    "x_train, X_preTrain, y_train, Y_preTrain = train_test_split(X_train, Y_train, test_size = 1/3, random_state = 42)\n",
    "X, X_left, Y, Y_left = train_test_split(X_preTrain, Y_preTrain, test_size = 1/2, random_state = 42)\n",
    "\n",
    "\n",
    "#Use Train set to set Labeled train : Unlabeled train = 1:1\n",
    "X_train_L, X_train_U, Y_train_L, Y_train_U =train_test_split(X, Y, test_size = 1/2, random_state = 42)\n",
    "\n",
    "# Note: unlabeled examples marked with a label of -1.\n",
    "\n",
    "#Concatenate the labeled and unlabeled data\n",
    "X_train_mix = np.concatenate((X_train_L, X_train_U))\n",
    "\n",
    "#encode -1 for unlabeled set\n",
    "u_label = [-1 for _ in range(len(Y_train_U))]\n",
    "\n",
    "#Concatenate u_label with labeled set to form the training set\n",
    "Y_train_mix = np.concatenate((Y_train_L, u_label))\n",
    "\n"
   ]
  },
  {
   "cell_type": "code",
   "execution_count": 6,
   "metadata": {},
   "outputs": [
    {
     "name": "stdout",
     "output_type": "stream",
     "text": [
      "Self Training model accuracy:  0.8748266830996765\n"
     ]
    }
   ],
   "source": [
    "# Self-Training model\n",
    "svc = SVC(probability = True, gamma = \"auto\")\n",
    "self_training = SelfTrainingClassifier(svc)\n",
    "self_training.fit(X_train_mix, Y_train_mix)\n",
    "\n",
    "#Make prediction \n",
    "Y_pred = self_training.predict(X_test)\n",
    "acc_ST = accuracy_score(Y_test, Y_pred)\n",
    "print('Self Training model accuracy: ', acc_ST)"
   ]
  },
  {
   "cell_type": "code",
   "execution_count": null,
   "metadata": {},
   "outputs": [],
   "source": []
  }
 ],
 "metadata": {
  "kernelspec": {
   "display_name": "Python 3",
   "language": "python",
   "name": "python3"
  },
  "language_info": {
   "codemirror_mode": {
    "name": "ipython",
    "version": 3
   },
   "file_extension": ".py",
   "mimetype": "text/x-python",
   "name": "python",
   "nbconvert_exporter": "python",
   "pygments_lexer": "ipython3",
   "version": "3.8.3"
  }
 },
 "nbformat": 4,
 "nbformat_minor": 4
}
